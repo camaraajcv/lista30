{
  "cells": [
    {
      "cell_type": "markdown",
      "metadata": {
        "id": "xxKCMHfBqgmF"
      },
      "source": [
        "### For loops fora da função\n",
        "\n",
        "1. Liste o quadrado de todos os números, de 1 a 10, inclusive.  \n",
        "Eu vou dificultar isso um pouquinho: cuidado para não incluir o zero e não parar no 81."
      ]
    },
    {
      "cell_type": "code",
      "execution_count": null,
      "metadata": {
        "colab": {
          "base_uri": "https://localhost:8080/"
        },
        "id": "JAwwggz5qgmK",
        "outputId": "c105a671-4bd8-4214-be62-eeae577561d3"
      },
      "outputs": [
        {
          "output_type": "stream",
          "name": "stdout",
          "text": [
            "1\n",
            "4\n",
            "9\n",
            "16\n",
            "25\n",
            "36\n",
            "49\n",
            "64\n",
            "81\n",
            "100\n"
          ]
        }
      ],
      "source": [
        "for i in range(1,11):\n",
        "      print (i**2)\n"
      ]
    },
    {
      "cell_type": "markdown",
      "metadata": {
        "id": "nl9ozI9YqgmM"
      },
      "source": [
        "2. Liste o quadrado de todos os números entre 1 a 10, saltando de 3 em 3"
      ]
    },
    {
      "cell_type": "code",
      "execution_count": null,
      "metadata": {
        "id": "aCV6yumyqgmM",
        "outputId": "3df65804-7e84-4460-b692-9d25e09f48e5",
        "colab": {
          "base_uri": "https://localhost:8080/"
        }
      },
      "outputs": [
        {
          "output_type": "stream",
          "name": "stdout",
          "text": [
            "1\n",
            "16\n",
            "49\n",
            "100\n"
          ]
        }
      ],
      "source": [
        "for i in range(1,11,3):\n",
        "    if i!=0:\n",
        "      print (i**2)\n"
      ]
    },
    {
      "cell_type": "markdown",
      "metadata": {
        "id": "yLHs0j27qgmN"
      },
      "source": [
        "3. A função a seguir dá o n-ésimo termo da série de Fibonacci. Use ela para listar os 10 primeiros termos da série de Fibonacci."
      ]
    },
    {
      "cell_type": "code",
      "execution_count": null,
      "metadata": {
        "id": "0qbhtAJ2qgmN"
      },
      "outputs": [],
      "source": [
        "def fib(n):\n",
        "    if (n == 0) | (n == 1):\n",
        "        return(1)\n",
        "    else:\n",
        "        return(fib(n-1) + fib(n-2))"
      ]
    },
    {
      "cell_type": "code",
      "execution_count": null,
      "metadata": {
        "id": "UXCWNoDmqgmO",
        "outputId": "5b8b51da-ea68-4bcc-9085-2d11fabcebfe",
        "colab": {
          "base_uri": "https://localhost:8080/"
        }
      },
      "outputs": [
        {
          "output_type": "stream",
          "name": "stdout",
          "text": [
            "1\n",
            "2\n",
            "3\n",
            "5\n",
            "8\n",
            "13\n",
            "21\n",
            "34\n",
            "55\n",
            "89\n"
          ]
        }
      ],
      "source": [
        "for n in range(1,11):\n",
        "    fib(n)\n",
        "    print(fib(n))\n",
        "   \n"
      ]
    },
    {
      "cell_type": "markdown",
      "metadata": {
        "id": "JDhu36phqgmO"
      },
      "source": [
        "### For loops dentro da função\n",
        "\n",
        "1. Faça uma função que some os $n$ primeiros números ímpares. \n",
        "\n",
        "Note que essa função é diferente da que vimos em aula, onde somávamos todos os ímpares até $n$. \n",
        "\n",
        "Aqui, queremos uma função que, ao receber $n = 3$, some 1, 3 e 5, que são os 3 primeiros ímpares, e retorne 1 + 3 + 5 = 9.\n",
        "\n",
        "Dica: o n-ésimo número ímpar (começando a contar do zero) é $2n+1$"
      ]
    },
    {
      "cell_type": "code",
      "execution_count": null,
      "metadata": {
        "id": "vzsLcww2qgmP",
        "outputId": "a9c8b71b-063d-4a54-b788-10f3eac90589",
        "colab": {
          "base_uri": "https://localhost:8080/"
        }
      },
      "outputs": [
        {
          "output_type": "stream",
          "name": "stdout",
          "text": [
            "9\n"
          ]
        }
      ],
      "source": [
        "soma = 0\n",
        "n=3\n",
        "for i in range(1, 2 * n, 2):\n",
        "    soma += i\n",
        "print(soma)\n"
      ]
    },
    {
      "cell_type": "markdown",
      "metadata": {
        "id": "ZyzlLwLlqgmP"
      },
      "source": [
        "O código abaixo lista o resultado da função acima para todos os valores de $n$, de 1 a 10, inclusive. Compare com a sua resposta para a primeira pergunta dessa lista, onde você listou o quadrado de todos os números de 1 a 10. Parece familiar?"
      ]
    },
    {
      "cell_type": "code",
      "execution_count": 1,
      "metadata": {
        "id": "6JbpGTl5qgmQ",
        "outputId": "96c019cd-fbc7-4ad8-c394-e88fdc02ee15",
        "colab": {
          "base_uri": "https://localhost:8080/",
          "height": 187
        }
      },
      "outputs": [
        {
          "output_type": "error",
          "ename": "NameError",
          "evalue": "ignored",
          "traceback": [
            "\u001b[0;31m---------------------------------------------------------------------------\u001b[0m",
            "\u001b[0;31mNameError\u001b[0m                                 Traceback (most recent call last)",
            "\u001b[0;32m<ipython-input-1-c2d7e1741b2c>\u001b[0m in \u001b[0;36m<module>\u001b[0;34m\u001b[0m\n\u001b[1;32m      1\u001b[0m \u001b[0;32mfor\u001b[0m \u001b[0mi\u001b[0m \u001b[0;32min\u001b[0m \u001b[0mrange\u001b[0m\u001b[0;34m(\u001b[0m\u001b[0;36m1\u001b[0m\u001b[0;34m,\u001b[0m\u001b[0;36m11\u001b[0m\u001b[0;34m)\u001b[0m\u001b[0;34m:\u001b[0m\u001b[0;34m\u001b[0m\u001b[0;34m\u001b[0m\u001b[0m\n\u001b[0;32m----> 2\u001b[0;31m     \u001b[0mprint\u001b[0m\u001b[0;34m(\u001b[0m\u001b[0msoma_impares\u001b[0m\u001b[0;34m(\u001b[0m\u001b[0mi\u001b[0m\u001b[0;34m)\u001b[0m\u001b[0;34m)\u001b[0m\u001b[0;34m\u001b[0m\u001b[0;34m\u001b[0m\u001b[0m\n\u001b[0m",
            "\u001b[0;31mNameError\u001b[0m: name 'soma_impares' is not defined"
          ]
        }
      ],
      "source": [
        "for i in range(1,11):\n",
        "    print(soma_impares(i))"
      ]
    },
    {
      "cell_type": "markdown",
      "metadata": {
        "id": "67uOrn3hqgmR"
      },
      "source": [
        "## Números primos\n",
        "\n",
        "Um número é primo caso ele não seja divisível por nenhum outro número menor que ele, exceto 1. \n",
        "\n",
        "Assim, 2, 3, 5, e 11 são primos.  \n",
        "8, 9 e 21 não são. \n",
        "\n",
        "Faça uma função para verificar se um número $n$ qualquer é primo.\n",
        "Sua função deve se chamar `primo` e retornar um booleano (True ou False)\n",
        "\n",
        "Para te ajudar, você pode usar a função abaixo, que verifica se um número é divisível por outro:"
      ]
    },
    {
      "cell_type": "code",
      "execution_count": 50,
      "metadata": {
        "id": "fXkxHfN6qgmR",
        "outputId": "5d10f97a-4806-4bb8-8f93-25833775d505",
        "colab": {
          "base_uri": "https://localhost:8080/"
        }
      },
      "outputs": [
        {
          "output_type": "execute_result",
          "data": {
            "text/plain": [
              "False"
            ]
          },
          "metadata": {},
          "execution_count": 50
        }
      ],
      "source": [
        "def divisivel(a,b):\n",
        "    return(a % b == 0)\n",
        "divisivel(4,5)"
      ]
    },
    {
      "cell_type": "code",
      "execution_count": 111,
      "metadata": {
        "id": "u8AOVKMIqgmS",
        "outputId": "dd87b123-c047-434f-a6ad-e17ebb89d166",
        "colab": {
          "base_uri": "https://localhost:8080/"
        }
      },
      "outputs": [
        {
          "output_type": "execute_result",
          "data": {
            "text/plain": [
              "True"
            ]
          },
          "metadata": {},
          "execution_count": 111
        }
      ],
      "source": [
        "def primo(n):\n",
        "    if n == 0:\n",
        "        return False\n",
        "    elif n == 1:\n",
        "        return False\n",
        "    elif n == 2:\n",
        "        return True\n",
        "    for i in range(2, n+1):\n",
        "        if n % i == 0 and n/i !=1: # Isso porque 3/3 tem resto zero mas é primo\n",
        "            return False\n",
        "    return True\n",
        "primo(11)"
      ]
    },
    {
      "cell_type": "markdown",
      "metadata": {
        "id": "1L2So2vwqgmU"
      },
      "source": [
        "## Raiz quadrada pelo método babilônico\n",
        "\n",
        "Os babilônicos calculavam a raiz quadrada de um número assim...\n",
        "\n",
        "Digamos que a gente queira calcular a raiz de 50 e não saiba quanto é.\n",
        "A gente chuta: é 10!\n",
        "Bom, 50 dividido por 10 é uns 5.\n",
        "Então a raiz deve estar entre 10 e 5. Vamos na média: 7.5\n",
        "Esse é nosso novo chute, com o qual a gente repete o processo...\n",
        "\n",
        "Em suma, para calcular  raiz de um número $Q$:\n",
        "\n",
        "1. Chuta um valor $x$ (\"x\" de \"chute\")\n",
        "2. Divide $Q$ por $x$. CIhama esse valor de $y$\n",
        "3. Tira a média entre $x$ e $y$. Esse vira o novo valor de $x$.\n",
        "4. Volta ao passo 2 e repete\n",
        "\n",
        "Quando é que a gente pára de repetir?\n",
        "Quando a diferença entre $x$ e $y$ fica pequena o suficiente para ser desprezada. Isso significa ser menor do que um valor pequeno, chamado tolerância.\n",
        "\n",
        "Faça uma função que calcule a raiz quadrada de um número $Q$ usando o método babilônico. Essa função deve receber 3 parâmetros:\n",
        "1. O número $Q$, cuja raiz quadrada queremos calcular\n",
        "2. O chute inicial, $x$. Por default, esse valor deve ser igual a 1.\n",
        "3. A tolerância, `tol`. Por default, esse valor deve ser igual a 0.01.\n",
        "\n",
        "A função deve se chamar `bsqrt`"
      ]
    },
    {
      "cell_type": "code",
      "execution_count": 122,
      "metadata": {
        "id": "p0sArSRYqgmV",
        "outputId": "47ec25f4-d16b-4b2f-8dea-f85f87851387",
        "colab": {
          "base_uri": "https://localhost:8080/",
          "height": 330
        }
      },
      "outputs": [
        {
          "output_type": "error",
          "ename": "KeyboardInterrupt",
          "evalue": "ignored",
          "traceback": [
            "\u001b[0;31m---------------------------------------------------------------------------\u001b[0m",
            "\u001b[0;31mKeyboardInterrupt\u001b[0m                         Traceback (most recent call last)",
            "\u001b[0;32m<ipython-input-122-49e73c12cd74>\u001b[0m in \u001b[0;36m<module>\u001b[0;34m\u001b[0m\n\u001b[1;32m      8\u001b[0m       \u001b[0mx\u001b[0m\u001b[0;34m==\u001b[0m\u001b[0;34m(\u001b[0m\u001b[0mx\u001b[0m\u001b[0;34m+\u001b[0m\u001b[0my\u001b[0m\u001b[0;34m)\u001b[0m\u001b[0;34m/\u001b[0m\u001b[0;36m2\u001b[0m\u001b[0;34m\u001b[0m\u001b[0;34m\u001b[0m\u001b[0m\n\u001b[1;32m      9\u001b[0m     \u001b[0;32mreturn\u001b[0m \u001b[0mx\u001b[0m\u001b[0;34m\u001b[0m\u001b[0;34m\u001b[0m\u001b[0m\n\u001b[0;32m---> 10\u001b[0;31m \u001b[0mbsqrt\u001b[0m\u001b[0;34m(\u001b[0m\u001b[0;36m10\u001b[0m\u001b[0;34m,\u001b[0m\u001b[0;36m50\u001b[0m\u001b[0;34m,\u001b[0m\u001b[0;36m0.01\u001b[0m\u001b[0;34m)\u001b[0m\u001b[0;34m\u001b[0m\u001b[0;34m\u001b[0m\u001b[0m\n\u001b[0m",
            "\u001b[0;32m<ipython-input-122-49e73c12cd74>\u001b[0m in \u001b[0;36mbsqrt\u001b[0;34m(x, q, tol)\u001b[0m\n\u001b[1;32m      4\u001b[0m     \u001b[0mtol\u001b[0m\u001b[0;34m==\u001b[0m\u001b[0;36m0.01\u001b[0m\u001b[0;34m\u001b[0m\u001b[0;34m\u001b[0m\u001b[0m\n\u001b[1;32m      5\u001b[0m \u001b[0;34m\u001b[0m\u001b[0m\n\u001b[0;32m----> 6\u001b[0;31m     \u001b[0;32mwhile\u001b[0m \u001b[0;34m(\u001b[0m\u001b[0mx\u001b[0m\u001b[0;34m-\u001b[0m\u001b[0my\u001b[0m\u001b[0;34m>\u001b[0m \u001b[0mtol\u001b[0m\u001b[0;34m)\u001b[0m\u001b[0;34m:\u001b[0m\u001b[0;34m\u001b[0m\u001b[0;34m\u001b[0m\u001b[0m\n\u001b[0m\u001b[1;32m      7\u001b[0m       \u001b[0mq\u001b[0m\u001b[0;34m/\u001b[0m\u001b[0mx\u001b[0m \u001b[0;34m==\u001b[0m\u001b[0my\u001b[0m\u001b[0;34m\u001b[0m\u001b[0;34m\u001b[0m\u001b[0m\n\u001b[1;32m      8\u001b[0m       \u001b[0mx\u001b[0m\u001b[0;34m==\u001b[0m\u001b[0;34m(\u001b[0m\u001b[0mx\u001b[0m\u001b[0;34m+\u001b[0m\u001b[0my\u001b[0m\u001b[0;34m)\u001b[0m\u001b[0;34m/\u001b[0m\u001b[0;36m2\u001b[0m\u001b[0;34m\u001b[0m\u001b[0;34m\u001b[0m\u001b[0m\n",
            "\u001b[0;31mKeyboardInterrupt\u001b[0m: "
          ]
        }
      ],
      "source": [
        "def bsqrt(x,q,tol):\n",
        "    x==1\n",
        "    y=0\n",
        "    tol==0.01\n",
        "  \n",
        "    while (x-y> tol):\n",
        "      q/x ==y\n",
        "      x==(x+y)/2\n",
        "    return x\n",
        "bsqrt(10,50,0.01)"
      ]
    }
  ],
  "metadata": {
    "kernelspec": {
      "display_name": "Python 3",
      "language": "python",
      "name": "python3"
    },
    "language_info": {
      "codemirror_mode": {
        "name": "ipython",
        "version": 3
      },
      "file_extension": ".py",
      "mimetype": "text/x-python",
      "name": "python",
      "nbconvert_exporter": "python",
      "pygments_lexer": "ipython3",
      "version": "3.8.3"
    },
    "colab": {
      "provenance": [],
      "toc_visible": true
    }
  },
  "nbformat": 4,
  "nbformat_minor": 0
}